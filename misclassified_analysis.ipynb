{
 "cells": [
  {
   "cell_type": "code",
   "execution_count": 34,
   "id": "b247761d",
   "metadata": {},
   "outputs": [],
   "source": [
    "import pandas as pd\n",
    "import numpy as np"
   ]
  },
  {
   "cell_type": "code",
   "execution_count": 40,
   "id": "fa4c9ec6",
   "metadata": {},
   "outputs": [],
   "source": [
    "youtube_misclassified = pd.read_csv(\"most_misclassified_youtube.csv\")\n",
    "yelp_misclassified = pd.read_csv(\"most_misclassified_yelp.csv\")"
   ]
  },
  {
   "cell_type": "code",
   "execution_count": 41,
   "id": "143e78ff",
   "metadata": {},
   "outputs": [],
   "source": [
    "youtube_set = set(youtube_misclassified['Word'])\n",
    "yelp_set = set(yelp_misclassified['Word'])\n",
    "\n",
    "common_misclassified = youtube_set.intersection(yelp_set)"
   ]
  },
  {
   "cell_type": "code",
   "execution_count": 42,
   "id": "084c8c07",
   "metadata": {},
   "outputs": [
    {
     "name": "stdout",
     "output_type": "stream",
     "text": [
      "Common misclassified words between YouTube and Yelp:\n",
      "bin\n"
     ]
    }
   ],
   "source": [
    "print(\"Common misclassified words between YouTube and Yelp:\")\n",
    "for word in common_misclassified:\n",
    "    print(word)"
   ]
  },
  {
   "cell_type": "code",
   "execution_count": 43,
   "id": "3ec79545",
   "metadata": {},
   "outputs": [],
   "source": [
    "def make_combined_string(df):\n",
    "    combined = \"\"\n",
    "    for _, row in df.iterrows():\n",
    "        word = row['Word']\n",
    "        count = row['Count']\n",
    "        combined += ((word + \" \") * count)\n",
    "    return combined.strip()"
   ]
  },
  {
   "cell_type": "code",
   "execution_count": 44,
   "id": "ad7777b6",
   "metadata": {},
   "outputs": [],
   "source": [
    "combined_youtube = make_combined_string(youtube_misclassified)\n",
    "combined_yelp = make_combined_string(yelp_misclassified)"
   ]
  },
  {
   "cell_type": "code",
   "execution_count": 45,
   "id": "5b701097",
   "metadata": {},
   "outputs": [
    {
     "name": "stdout",
     "output_type": "stream",
     "text": [
      "artists artists artists artists artists artists artists artists artists artists artists artists artists artists artists artists artists artists artists artists artists artists artists artists artists artists artists artists artists artists artists artists artists artists artists artists artists artists artists artists artists artists artists artists artists artists artists artists artists artists artists artists artists artists artists artists artists artists artists artists artists artists artists artists artists artists artists artists artists artists artists artists artists artists artists artists artists artists artists artists artists artists artists artists artists artists artists artists artists artists artists artists artists artists artists artists artists artists artists artists artists artists artists artists artists artists artists artists artists artists artists artists artists artists artists artists artists artists artists artists artists artists artists artists artists artists artists artists application application application application application application application application application application application application application application application application application application application application application application application application application application application application application application application application application application application application application application application application application application application application application application application application application application application application application application application application application application application application application application application application application application application application application application application application application application application application application application application application application application application application application application application application application application application application application application application application application application application application application application application application application application application application application application application application application application application application application application application application carrying carrying carrying carrying carrying carrying carrying carrying carrying carrying carrying carrying carrying carrying carrying carrying carrying carrying carrying carrying carrying carrying carrying carrying carrying carrying carrying carrying carrying carrying carrying carrying carrying carrying carrying carrying carrying carrying carrying carrying carrying carrying carrying carrying carrying carrying carrying carrying carrying carrying carrying carrying carrying carrying carrying carrying carrying carrying carrying carrying carrying carrying carrying carrying carrying carrying carrying carrying carrying carrying carrying carrying carrying carrying carrying carrying carrying carrying carrying carrying carrying carrying carrying carrying carrying beethovens beethovens beethovens beethovens beethovens beethovens beethovens beethovens beethovens beethovens beethovens beethovens beethovens beethovens beethovens beethovens beethovens beethovens beethovens beethovens beethovens beethovens beethovens beethovens beethovens beethovens beethovens beethovens beethovens beethovens beethovens beethovens beethovens beethovens beethovens beethovens beethovens beethovens beethovens beethovens beethovens beethovens beethovens beethovens beethovens beethovens beethovens beethovens beethovens beethovens beethovens beethovens beethovens beethovens beethovens beethovens beethovens beethovens beethovens beethovens beethovens beethovens beethovens beethovens beethovens beethovens beethovens beethovens beethovens chasing chasing chasing chasing chasing chasing chasing chasing chasing chasing chasing chasing chasing chasing chasing chasing chasing chasing chasing chasing chasing chasing chasing chasing chasing chasing chasing chasing chasing chasing chasing chasing chasing chasing chasing chasing chasing chasing chasing chasing chasing chasing chasing chasing chasing chasing chasing chasing chasing chasing chasing chasing chasing chasing chasing chasing chasing chasing chasing chasing chasing chasing chasing chasing chasing chasing chasing chasing chasing analysts analysts analysts analysts analysts analysts analysts analysts analysts analysts analysts analysts analysts analysts analysts analysts analysts analysts analysts analysts analysts analysts analysts analysts analysts analysts analysts analysts analysts analysts analysts analysts analysts analysts analysts analysts analysts analysts analysts analysts analysts analysts analysts analysts analysts analysts analysts analysts analysts analysts analysts analysts analysts analysts analysts analysts analysts analysts analysts blocked blocked blocked blocked blocked blocked blocked blocked blocked blocked blocked blocked blocked blocked blocked blocked blocked blocked blocked blocked blocked blocked blocked blocked blocked blocked blocked blocked blocked blocked blocked blocked blocked blocked blocked blocked blocked blocked blocked blocked blocked blocked blocked blocked blocked blocked blocked blocked blocked blocked blocked blocked blocked blocked cards cards cards cards cards cards cards cards cards cards cards cards cards cards cards cards cards cards cards cards cards cards cards cards cards cards cards cards cards cards cards cards cards cards cards cards cards cards cards cards cards cards cards cards cards cards cards cards cards agora agora agora agora agora agora agora agora agora agora agora agora agora agora agora agora agora agora agora agora agora agora agora agora agora agora agora agora agora agora agora agora agora agora agora agora agora agora agora agora agora agora agora agora agora agora agora agora aqui aqui aqui aqui aqui aqui aqui aqui aqui aqui aqui aqui aqui aqui aqui aqui aqui aqui aqui aqui aqui aqui aqui aqui aqui aqui aqui aqui aqui aqui aqui aqui aqui aqui aqui aqui aqui aqui aqui aqui aqui aqui aqui aqui aqui aqui aqui 913 913 913 913 913 913 913 913 913 913 913 913 913 913 913 913 913 913 913 913 913 913 913 913 913 913 913 913 913 913 913 913 913 913 913 913 913 913 913 913 913 913 913 913 913 agn agn agn agn agn agn agn agn agn agn agn agn agn agn agn agn agn agn agn agn agn agn agn agn agn agn agn agn agn agn agn agn agn agn agn agn agn agn agn agn choices choices choices choices choices choices choices choices choices choices choices choices choices choices choices choices choices choices choices choices choices choices choices choices choices choices choices choices choices choices choices choices choices choices choices choices choices choices choices card card card card card card card card card card card card card card card card card card card card card card card card card card card card card card card card card card card card card card agriculture agriculture agriculture agriculture agriculture agriculture agriculture agriculture agriculture agriculture agriculture agriculture agriculture agriculture agriculture agriculture agriculture agriculture agriculture agriculture agriculture agriculture agriculture agriculture agriculture agriculture agriculture agriculture agriculture agriculture agriculture agriculture agriculture agriculture agriculture agriculture agriculture 72534 72534 72534 72534 72534 72534 72534 72534 72534 72534 72534 72534 72534 72534 72534 72534 72534 72534 72534 72534 72534 72534 72534 72534 72534 72534 72534 72534 72534 72534 72534 72534 72534 72534 72534 affecting affecting affecting affecting affecting affecting affecting affecting affecting affecting affecting affecting affecting affecting affecting affecting affecting affecting affecting affecting affecting affecting affecting affecting affecting affecting affecting affecting affecting affecting affecting affecting affecting affecting chu chu chu chu chu chu chu chu chu chu chu chu chu chu chu chu chu chu chu chu chu chu chu chu chu chu chu chu chu chu chu chu chu badly badly badly badly badly badly badly badly badly badly badly badly badly badly badly badly badly badly badly badly badly badly badly badly badly badly badly badly badly badly badly badly 2040 2040 2040 2040 2040 2040 2040 2040 2040 2040 2040 2040 2040 2040 2040 2040 2040 2040 2040 2040 2040 2040 2040 2040 2040 2040 2040 2040 2040 2040 ademas ademas ademas ademas ademas ademas ademas ademas ademas ademas ademas ademas ademas ademas ademas ademas ademas ademas ademas ademas ademas ademas ademas ademas ademas ademas ademas ademas ademas ademas atop atop atop atop atop atop atop atop atop atop atop atop atop atop atop atop atop atop atop atop atop atop atop atop atop atop atop atop atop assistir assistir assistir assistir assistir assistir assistir assistir assistir assistir assistir assistir assistir assistir assistir assistir assistir assistir assistir assistir assistir assistir assistir assistir assistir assistir assistir assistir assistir 5k 5k 5k 5k 5k 5k 5k 5k 5k 5k 5k 5k 5k 5k 5k 5k 5k 5k 5k 5k 5k 5k 5k 5k 5k 5k 5k 5k 5k bottle bottle bottle bottle bottle bottle bottle bottle bottle bottle bottle bottle bottle bottle bottle bottle bottle bottle bottle bottle bottle bottle bottle bottle bottle bottle bottle bottle array array array array array array array array array array array array array array array array array array array array array array array array array array array array aiding aiding aiding aiding aiding aiding aiding aiding aiding aiding aiding aiding aiding aiding aiding aiding aiding aiding aiding aiding aiding aiding aiding aiding aiding aiding aiding border border border border border border border border border border border border border border border border border border border border border border border border border border border 85226 85226 85226 85226 85226 85226 85226 85226 85226 85226 85226 85226 85226 85226 85226 85226 85226 85226 85226 85226 85226 85226 85226 85226 85226 85226 85226 assist assist assist assist assist assist assist assist assist assist assist assist assist assist assist assist assist assist assist assist assist assist assist assist assist assist 2030 2030 2030 2030 2030 2030 2030 2030 2030 2030 2030 2030 2030 2030 2030 2030 2030 2030 2030 2030 2030 2030 2030 2030 2030 2030 antman antman antman antman antman antman antman antman antman antman antman antman antman antman antman antman antman antman antman antman antman antman antman antman antman antman artisticas artisticas artisticas artisticas artisticas artisticas artisticas artisticas artisticas artisticas artisticas artisticas artisticas artisticas artisticas artisticas artisticas artisticas artisticas artisticas artisticas artisticas artisticas artisticas artisticas artisticas cheaper cheaper cheaper cheaper cheaper cheaper cheaper cheaper cheaper cheaper cheaper cheaper cheaper cheaper cheaper cheaper cheaper cheaper cheaper cheaper cheaper cheaper cheaper cheaper cheaper assault assault assault assault assault assault assault assault assault assault assault assault assault assault assault assault assault assault assault assault assault assault assault assault 000000 000000 000000 000000 000000 000000 000000 000000 000000 000000 000000 000000 000000 000000 000000 000000 000000 000000 000000 000000 90s 90s 90s 90s 90s 90s 90s 90s 90s 90s 90s 90s 90s 90s 90s 90s 90s 90s 90s 90s box box box box box box box box box box box box box box box box box box box blank blank blank blank blank blank blank blank blank blank blank blank blank blank blank blank blank blank blank analytical analytical analytical analytical analytical analytical analytical analytical analytical analytical analytical analytical analytical analytical analytical analytical analytical analytical 747 747 747 747 747 747 747 747 747 747 747 747 747 747 747 747 747 747 alpha alpha alpha alpha alpha alpha alpha alpha alpha alpha alpha alpha alpha alpha alpha alpha alpha afterparty afterparty afterparty afterparty afterparty afterparty afterparty afterparty afterparty afterparty afterparty afterparty afterparty afterparty afterparty afterparty afterparty airplane airplane airplane airplane airplane airplane airplane airplane airplane airplane airplane airplane airplane airplane airplane airplane airplane 900 900 900 900 900 900 900 900 900 900 900 900 900 900 900 900 900 8gb 8gb 8gb 8gb 8gb 8gb 8gb 8gb 8gb 8gb 8gb 8gb 8gb 8gb 8gb 8gb 8gb chocolate chocolate chocolate chocolate chocolate chocolate chocolate chocolate chocolate chocolate chocolate chocolate chocolate chocolate chocolate chocolate chocolate cena cena cena cena cena cena cena cena cena cena cena cena cena cena cena cena christian christian christian christian christian christian christian christian christian christian christian christian christian christian christian christian aside aside aside aside aside aside aside aside aside aside aside aside aside aside aside aside atmosphere atmosphere atmosphere atmosphere atmosphere atmosphere atmosphere atmosphere atmosphere atmosphere atmosphere atmosphere atmosphere atmosphere atmosphere atmosphere 25122 25122 25122 25122 25122 25122 25122 25122 25122 25122 25122 25122 25122 25122 25122 25122 civil civil civil civil civil civil civil civil civil civil civil civil civil civil civil arraylist arraylist arraylist arraylist arraylist arraylist arraylist arraylist arraylist arraylist arraylist arraylist arraylist arraylist arraylist atomic atomic atomic atomic atomic atomic atomic atomic atomic atomic atomic atomic atomic atomic atomic avoiding avoiding avoiding avoiding avoiding avoiding avoiding avoiding avoiding avoiding avoiding avoiding avoiding avoiding avoiding 1d 1d 1d 1d 1d 1d 1d 1d 1d 1d 1d 1d 1d 1d 1d capturing capturing capturing capturing capturing capturing capturing capturing capturing capturing capturing capturing capturing capturing capturing algorithm algorithm algorithm algorithm algorithm algorithm algorithm algorithm algorithm algorithm algorithm algorithm algorithm algorithm algorithm 1933 1933 1933 1933 1933 1933 1933 1933 1933 1933 1933 1933 1933 1933 1933 activity activity activity activity activity activity activity activity activity activity activity activity activity activity activity apology apology apology apology apology apology apology apology apology apology apology apology apology apology attendant attendant attendant attendant attendant attendant attendant attendant attendant attendant attendant attendant attendant attendant chips chips chips chips chips chips chips chips chips chips chips chips chips chips alien alien alien alien alien alien alien alien alien alien alien alien alien alien awful awful awful awful awful awful awful awful awful awful awful awful awful awful boyfriends boyfriends boyfriends boyfriends boyfriends boyfriends boyfriends boyfriends boyfriends boyfriends boyfriends boyfriends boyfriends asian asian asian asian asian asian asian asian asian asian asian asian asian 3ds 3ds 3ds 3ds 3ds 3ds 3ds 3ds 3ds 3ds 3ds 3ds 3ds blocks blocks blocks blocks blocks blocks blocks blocks blocks blocks blocks blocks blocks branches branches branches branches branches branches branches branches branches branches branches branches branches billy billy billy billy billy billy billy billy billy billy billy billy billy captivating captivating captivating captivating captivating captivating captivating captivating captivating captivating captivating captivating captivating 4x4 4x4 4x4 4x4 4x4 4x4 4x4 4x4 4x4 4x4 4x4 4x4 4x4 captions captions captions captions captions captions captions captions captions captions captions captions captions airpods airpods airpods airpods airpods airpods airpods airpods airpods airpods airpods airpods big big big big big big big big big big big big albums albums albums albums albums albums albums albums albums albums albums albums 400 400 400 400 400 400 400 400 400 400 400 400 civilization civilization civilization civilization civilization civilization civilization civilization civilization civilization civilization civilization bleeding bleeding bleeding bleeding bleeding bleeding bleeding bleeding bleeding bleeding bleeding bleeding ainda ainda ainda ainda ainda ainda ainda ainda ainda ainda ainda ainda annoyed annoyed annoyed annoyed annoyed annoyed annoyed annoyed annoyed annoyed annoyed access access access access access access access access access access access cinematic cinematic cinematic cinematic cinematic cinematic cinematic cinematic cinematic cinematic cinematic af af af af af af af af af af af bottles bottles bottles bottles bottles bottles bottles bottles bottles bottles bottles boil boil boil boil boil boil boil boil boil boil boil bin bin bin bin bin bin bin bin bin bin bin 610 610 610 610 610 610 610 610 610 610 610 3157 3157 3157 3157 3157 3157 3157 3157 3157 3157 arbitrage arbitrage arbitrage arbitrage arbitrage arbitrage arbitrage arbitrage arbitrage arbitrage bishop bishop bishop bishop bishop bishop bishop bishop bishop bishop axis axis axis axis axis axis axis axis axis axis 4th 4th 4th 4th 4th 4th 4th 4th 4th 4th adapt adapt adapt adapt adapt adapt adapt adapt adapt adapt 26 26 26 26 26 26 26 26 26 26 capability capability capability capability capability capability capability capability capability capability besteverfoodreviewshow besteverfoodreviewshow besteverfoodreviewshow besteverfoodreviewshow besteverfoodreviewshow besteverfoodreviewshow besteverfoodreviewshow besteverfoodreviewshow besteverfoodreviewshow besteverfoodreviewshow 404 404 404 404 404 404 404 404 404 404\n"
     ]
    }
   ],
   "source": [
    "print(combined_youtube)"
   ]
  },
  {
   "cell_type": "code",
   "execution_count": null,
   "id": "5301bdb4",
   "metadata": {},
   "outputs": [],
   "source": []
  }
 ],
 "metadata": {
  "kernelspec": {
   "display_name": ".venv",
   "language": "python",
   "name": "python3"
  },
  "language_info": {
   "codemirror_mode": {
    "name": "ipython",
    "version": 3
   },
   "file_extension": ".py",
   "mimetype": "text/x-python",
   "name": "python",
   "nbconvert_exporter": "python",
   "pygments_lexer": "ipython3",
   "version": "3.13.3"
  }
 },
 "nbformat": 4,
 "nbformat_minor": 5
}
