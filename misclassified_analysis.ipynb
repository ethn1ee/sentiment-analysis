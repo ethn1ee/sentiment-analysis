{
 "cells": [
  {
   "cell_type": "code",
   "execution_count": 11,
   "id": "b247761d",
   "metadata": {},
   "outputs": [],
   "source": [
    "import pandas as pd\n",
    "import numpy as np"
   ]
  },
  {
   "cell_type": "code",
   "execution_count": 12,
   "id": "fa4c9ec6",
   "metadata": {},
   "outputs": [],
   "source": [
    "youtube_misclassified = pd.read_csv(\"most_misclassified_youtube.csv\")\n",
    "yelp_misclassified = pd.read_csv(\"most_misclassified_yelp.csv\")"
   ]
  },
  {
   "cell_type": "code",
   "execution_count": 13,
   "id": "143e78ff",
   "metadata": {},
   "outputs": [],
   "source": [
    "youtube_set = set(youtube_misclassified['Word'])\n",
    "yelp_set = set(yelp_misclassified['Word'])\n",
    "\n",
    "common_misclassified = youtube_set.intersection(yelp_set)"
   ]
  },
  {
   "cell_type": "code",
   "execution_count": 14,
   "id": "084c8c07",
   "metadata": {},
   "outputs": [
    {
     "name": "stdout",
     "output_type": "stream",
     "text": [
      "Common misclassified words between YouTube and Yelp:\n",
      "butter\n",
      "bright\n",
      "cameras\n"
     ]
    }
   ],
   "source": [
    "print(\"Common misclassified words between YouTube and Yelp:\")\n",
    "for word in common_misclassified:\n",
    "    print(word)"
   ]
  },
  {
   "cell_type": "code",
   "execution_count": null,
   "id": "3ec79545",
   "metadata": {},
   "outputs": [],
   "source": []
  }
 ],
 "metadata": {
  "kernelspec": {
   "display_name": ".venv",
   "language": "python",
   "name": "python3"
  },
  "language_info": {
   "codemirror_mode": {
    "name": "ipython",
    "version": 3
   },
   "file_extension": ".py",
   "mimetype": "text/x-python",
   "name": "python",
   "nbconvert_exporter": "python",
   "pygments_lexer": "ipython3",
   "version": "3.13.3"
  }
 },
 "nbformat": 4,
 "nbformat_minor": 5
}
